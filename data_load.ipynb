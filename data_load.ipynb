{
 "cells": [
  {
   "cell_type": "markdown",
   "id": "dependencies-section",
   "metadata": {},
   "source": [
    "Installing required dependencies for GPU monitoring, AWS access, TensorFlow addons, and image preprocessing"
   ]
  },
  {
   "cell_type": "code",
   "execution_count": null,
   "id": "8cf59738",
   "metadata": {
    "vscode": {
     "languageId": "plaintext"
    }
   },
   "outputs": [],
   "source": [
    "!pip install gputil\n",
    "!pip install awscli\n",
    "!pip install git+https://github.com/tensorflow/addons.git\n",
    "!pip install keras-preprocessing"
   ]
  },
  {
   "cell_type": "markdown",
   "id": "aws-config-section",
   "metadata": {},
   "source": [
    "Configure AWS credentials to access the S3 bucket containing the dataset"
   ]
  },
  {
   "cell_type": "code",
   "execution_count": null,
   "id": "8c7014dc",
   "metadata": {
    "vscode": {
     "languageId": "plaintext"
    }
   },
   "outputs": [],
   "source": [
    "!aws configure"
   ]
  },
  {
   "cell_type": "markdown",
   "id": "download-section",
   "metadata": {},
   "source": [
    "Download the DeepWeeds dataset from S3 bucket (17,509 images, ~2.5GB)"
   ]
  },
  {
   "cell_type": "code",
   "execution_count": null,
   "id": "c6eb8493",
   "metadata": {
    "vscode": {
     "languageId": "plaintext"
    }
   },
   "outputs": [],
   "source": [
    "!aws s3 cp s3://weed-dataset-for-fyp-2025/Deepweeds-dataset.zip /content/"
   ]
  },
  {
   "cell_type": "markdown",
   "id": "extract-section",
   "metadata": {},
   "source": [
    "Extract the downloaded zip file to /content/weed-Dataset/ directory"
   ]
  },
  {
   "cell_type": "code",
   "execution_count": null,
   "id": "2a1a03f9",
   "metadata": {
    "vscode": {
     "languageId": "plaintext"
    }
   },
   "outputs": [],
   "source": [
    "!unzip -q /content/Deepweeds-dataset.zip -d /content/weed-Dataset"
   ]
  }
 ],
 "metadata": {
  "kernelspec": {
   "display_name": "Python 3",
   "language": "python",
   "name": "python3"
  },
  "language_info": {
   "codemirror_mode": {
    "name": "ipython",
    "version": 3
   },
   "file_extension": ".py",
   "mimetype": "text/x-python",
   "name": "python",
   "nbconvert_exporter": "python",
   "pygments_lexer": "ipython3",
   "version": "3.8.0"
  }
 },
 "nbformat": 4,
 "nbformat_minor": 5
}
